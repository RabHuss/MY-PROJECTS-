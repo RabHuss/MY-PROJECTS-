{
  "nbformat": 4,
  "nbformat_minor": 0,
  "metadata": {
    "colab": {
      "provenance": [],
      "authorship_tag": "ABX9TyNPB1Zq6NPCSnLeoMh6LrSs",
      "include_colab_link": true
    },
    "kernelspec": {
      "name": "python3",
      "display_name": "Python 3"
    },
    "language_info": {
      "name": "python"
    }
  },
  "cells": [
    {
      "cell_type": "markdown",
      "metadata": {
        "id": "view-in-github",
        "colab_type": "text"
      },
      "source": [
        "<a href=\"https://colab.research.google.com/github/RabHuss/MY-PROJECTS-/blob/main/My_prediction.ipynb\" target=\"_parent\"><img src=\"https://colab.research.google.com/assets/colab-badge.svg\" alt=\"Open In Colab\"/></a>"
      ]
    },
    {
      "cell_type": "code",
      "source": [
        "import pandas as pd"
      ],
      "metadata": {
        "id": "OdwU7fK-tbVd"
      },
      "execution_count": null,
      "outputs": []
    },
    {
      "cell_type": "code",
      "source": [
        "df = pd.read_csv('submission.csv')"
      ],
      "metadata": {
        "id": "ZylDlCsWtoV8"
      },
      "execution_count": null,
      "outputs": []
    },
    {
      "cell_type": "code",
      "source": [
        "print(df.head())"
      ],
      "metadata": {
        "colab": {
          "base_uri": "https://localhost:8080/"
        },
        "id": "kcGJHTf2ylU7",
        "outputId": "39b3ae03-5f58-4d1b-eba8-9db68f57c869"
      },
      "execution_count": null,
      "outputs": [
        {
          "output_type": "stream",
          "name": "stdout",
          "text": [
            "    id  exang\n",
            "0  320      0\n",
            "1  378      0\n",
            "2  539      1\n",
            "3  297      1\n",
            "4  532      0\n"
          ]
        }
      ]
    },
    {
      "cell_type": "code",
      "source": [
        "\n",
        "\n",
        "\n",
        "# Check if \"exang\" and \"prediction\" columns exist\n",
        "if 'exang' in df.columns and 'prediction' in df.columns:\n",
        "    # Calculate the correlation between exang and prediction\n",
        "    correlation = df['exang'].corr(df['prediction'])\n",
        "    print(f\"Correlation between exang and prediction: {correlation:.2f}\")\n",
        "\n",
        "    # Group by exang and calculate the average prediction\n",
        "    exang_grouped = df.groupby('exang')['prediction'].mean()\n",
        "    print(\"\\nAverage prediction by exang value:\")\n",
        "    print(exang_grouped)\n",
        "\n",
        "    # Count the number of occurrences of each prediction for exang values\n",
        "    exang_counts = df.groupby(['exang', 'prediction']).size().unstack(fill_value=0)\n",
        "    print(\"\\nCount of predictions by exang value:\")\n",
        "    print(exang_counts)\n",
        "else:\n",
        "    print(\"Required columns 'exang' and/or 'prediction' are missing in the dataset.\")"
      ],
      "metadata": {
        "colab": {
          "base_uri": "https://localhost:8080/"
        },
        "id": "veMarqMV1Bu4",
        "outputId": "d07bd16f-62ee-47ff-a2a9-c6c9f6b2c842"
      },
      "execution_count": null,
      "outputs": [
        {
          "output_type": "stream",
          "name": "stdout",
          "text": [
            "Required columns 'exang' and/or 'prediction' are missing in the dataset.\n"
          ]
        }
      ]
    }
  ]
}